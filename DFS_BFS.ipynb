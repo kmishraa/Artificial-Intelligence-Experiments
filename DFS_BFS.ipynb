class State:
    def __init__(self, jug1, jug2):
        self.jug1 = jug1
        self.jug2 = jug2

    def __eq__(self, other):
        return self.jug1 == other.jug1 and self.jug2 == other.jug2

    def __hash__(self):
        return hash((self.jug1, self.jug2))


def water_jug_bfs(x, y, z):
    visited = set()
    queue = [([], 0, 0)]
    while queue:
        steps, jug1, jug2 = queue.pop(0)
        if jug1 == z or jug2 == z:
            return True, steps
        visited.add((jug1, jug2))

        next_states = [
            (steps + [f'Fill jug 1 ({x}, {jug2})'], x, jug2),  # Fill jug 1
            (steps + [f'Fill jug 2 ({jug1}, {y})'], jug1, y),  # Fill jug 2
            (steps + ['Empty jug 1 (0, {})'.format(jug2)], 0, jug2),  # Empty jug 1
            (steps + ['Empty jug 2 ({}, 0)'.format(jug1)], jug1, 0),  # Empty jug 2
            (steps + [f'Pour from jug 1 to jug 2 ({max(0, jug1 - (y - jug2))}, {min(jug1 + jug2, y)})'], max(0, jug1 - (y - jug2)), min(jug1 + jug2, y)),  # Pour from jug 1 to jug 2
            (steps + [f'Pour from jug 2 to jug 1 ({min(jug1 + jug2, x)}, {max(0, jug2 - (x - jug1))})'], min(jug1 + jug2, x), max(0, jug2 - (x - jug1)))  # Pour from jug 2 to jug 1
        ]

        for state in next_states:
            if (state[1], state[2]) not in visited:
                queue.append(state)

    return False, []


def water_jug_dfs(x, y, z, jug1=0, jug2=0, visited=None, steps=None):
    if visited is None:
        visited = set()
    if steps is None:
        steps = []

    if jug1 == z or jug2 == z:
        return True, steps

    state = State(jug1, jug2)
    if state in visited:
        return False, []

    visited.add(state)

    next_states = [
        (x, jug2),  # Fill jug 1
        (jug1, y),  # Fill jug 2
        (0, jug2),  # Empty jug 1
        (jug1, 0),  # Empty jug 2
        (max(0, jug1 - (y - jug2)), min(jug1 + jug2, y)),  # Pour from jug 1 to jug 2
        (min(jug1 + jug2, x), max(0, jug2 - (x - jug1)))  # Pour from jug 2 to jug 1
    ]

    for i, (next_jug1, next_jug2) in enumerate(next_states):
        result, new_steps = water_jug_dfs(x, y, z, next_jug1, next_jug2, visited, steps + [next_states[i]])
        if result:
            return True, new_steps

    return False, []


# Example usage
x, y, z = 3, 5, 4  # Jug capacities and target volume
found_bfs, steps_bfs = water_jug_bfs(x, y, z)  # Using BFS
found_dfs, steps_dfs = water_jug_dfs(x, y, z)  # Using DFS

if found_bfs:
    print("BFS Solution found in", len(steps_bfs), "steps:")
    for step in steps_bfs:
        print(step)
else:
    print("BFS Solution not found.")

if found_dfs:
    print("\nDFS Solution found in", len(steps_dfs), "steps:")
    for step in steps_dfs:
        print(step)
else:
    print("DFS Solution not found.")
