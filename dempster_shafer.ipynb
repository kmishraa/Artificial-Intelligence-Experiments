import numpy as np

# Step 1: Define hypotheses and basic probabilities
hypotheses = ['H1', 'H2', 'H3']  # Example hypotheses
basic_probabilities = {'H1': 0.3, 'H2': 0.4, 'H3': 0.3}  # Example basic probabilities

# Step 2: Define evidence and its support for each hypothesis
evidence = {'E1': {'H1': 0.2, 'H2': 0.3, 'H3': 0.1},
            'E2': {'H1': 0.1, 'H2': 0.4, 'H3': 0.2}}

# Step 3: Combine basic probabilities and evidence
def combine_evidence(basic_prob, evidence):
    combined_belief = {h: basic_prob[h] for h in hypotheses}
    for e in evidence:
        for h in hypotheses:
            combined_belief[h] *= 1 - evidence[e][h]
    return combined_belief

# Step 4: Calculate belief functions
belief_functions = combine_evidence(basic_probabilities, evidence)

# Step 5: Determine the most probable hypothesis
most_probable_hypothesis = max(belief_functions, key=belief_functions.get)

print("Belief functions:", belief_functions)
print("Most probable hypothesis:", most_probable_hypothesis)
