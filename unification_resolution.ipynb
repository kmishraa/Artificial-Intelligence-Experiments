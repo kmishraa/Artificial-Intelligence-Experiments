def unify(var, value, substitution):
    """Unify a variable with a value in the substitution."""
    if var in substitution:
        return unify(substitution[var], value, substitution)
    elif value in substitution:
        return unify(var, substitution[value], substitution)
    elif isinstance(value, str) and value.startswith('?'):
        substitution[value] = var
        return substitution
    elif var != value:
        return False
    else:
        return substitution

def unify_args(args1, args2, substitution):
    """Unify arguments of compound terms."""
    if len(args1) != len(args2):
        return False
    for arg1, arg2 in zip(args1, args2):
        substitution = unify(arg1, arg2, substitution)
        if not substitution:
            return False
    return substitution

def unify_terms(term1, term2, substitution):
    """Unify two terms."""
    if isinstance(term1, str) and term1.startswith('?'):
        return unify(term1, term2, substitution)
    elif isinstance(term2, str) and term2.startswith('?'):
        return unify(term2, term1, substitution)
    elif isinstance(term1, tuple) and isinstance(term2, tuple):
        return unify_args(term1, term2, substitution)
    elif term1 != term2:
        return False
    else:
        return substitution

# Example usage
substitution = unify_terms(('?x', ('?y', '?z')), (('a', 'b'), ('c', 'd')), {})
print(substitution)  # Output: {'?x': ('a', 'b'), '?y': 'c', '?z': 'd'}
