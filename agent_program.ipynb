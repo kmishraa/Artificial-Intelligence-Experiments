import networkx as nx
import random

def vertex_coloring(graph):
    colors = {}
    agents = list(graph.nodes())
    random.shuffle(agents)

    for agent in agents:
        neighbor_colors = [colors[neighbor] for neighbor in graph.neighbors(agent) if neighbor in colors]
        available_colors = set(range(len(neighbor_colors) + 1)) - set(neighbor_colors)
        chosen_color = min(available_colors) if available_colors else max(colors.values()) + 1
        colors[agent] = chosen_color

    return colors

# Example usage:
G = nx.Graph()
G.add_edges_from([(1, 2), (1, 3), (2, 3), (3, 4)])

colors = vertex_coloring(G)
print("Vertex Colors:")
for node, color in colors.items():
    print(f"Node {node}: Color {color}")
